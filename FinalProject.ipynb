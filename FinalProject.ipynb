{
 "cells": [
  {
   "cell_type": "code",
   "execution_count": 3,
   "id": "e0c60a01",
   "metadata": {},
   "outputs": [
    {
     "ename": "ModuleNotFoundError",
     "evalue": "No module named 'seaborn'",
     "output_type": "error",
     "traceback": [
      "\u001b[1;31m---------------------------------------------------------------------------\u001b[0m",
      "\u001b[1;31mModuleNotFoundError\u001b[0m                       Traceback (most recent call last)",
      "Cell \u001b[1;32mIn[3], line 9\u001b[0m\n\u001b[0;32m      7\u001b[0m \u001b[38;5;28;01mimport\u001b[39;00m \u001b[38;5;21;01mmatplotlib\u001b[39;00m\u001b[38;5;21;01m.\u001b[39;00m\u001b[38;5;21;01mpyplot\u001b[39;00m \u001b[38;5;28;01mas\u001b[39;00m \u001b[38;5;21;01mplt\u001b[39;00m\n\u001b[0;32m      8\u001b[0m \u001b[38;5;66;03m# importing seaborn\u001b[39;00m\n\u001b[1;32m----> 9\u001b[0m \u001b[38;5;28;01mimport\u001b[39;00m \u001b[38;5;21;01mseaborn\u001b[39;00m \u001b[38;5;28;01mas\u001b[39;00m \u001b[38;5;21;01msn\u001b[39;00m\n\u001b[0;32m     10\u001b[0m \u001b[38;5;66;03m# importing train_test split and grid search cv\u001b[39;00m\n\u001b[0;32m     11\u001b[0m \u001b[38;5;28;01mfrom\u001b[39;00m \u001b[38;5;21;01msklearn\u001b[39;00m\u001b[38;5;21;01m.\u001b[39;00m\u001b[38;5;21;01mmodel_selection\u001b[39;00m \u001b[38;5;28;01mimport\u001b[39;00m train_test_split, GridSearchCV\n",
      "\u001b[1;31mModuleNotFoundError\u001b[0m: No module named 'seaborn'"
     ]
    }
   ],
   "source": [
    "# importing the required librarie for data manipulation and analysis\n",
    "# importing pandas for dataframe manipulation\n",
    "import pandas as pd\n",
    "# importing numpy for numerical array manipulation\n",
    "import numpy as np\n",
    "# importing matplotlib and seaborn for visualization\n",
    "import matplotlib.pyplot as plt\n",
    "# importing seaborn\n",
    "import seaborn as sn\n",
    "# importing train_test split and grid search cv\n",
    "from sklearn.model_selection import train_test_split, GridSearchCV\n",
    "# importing pipeline\n",
    "from sklearn.pipeline import Pipeline\n",
    "# importing imputers\n",
    "from sklearn.impute import SimpleImputer\n",
    "# importing scalers\n",
    "from sklearn.preprocessing import StandardScaler, MinMaxScaler, OneHotEncoder, OrdinalEncoder, LabelEncoder\n",
    "# importing column transformers\n",
    "from sklearn.compose import ColumnTransformer\n",
    "# importing metrics for validating model fit\n",
    "from sklearn.metrics import (accuracy_score,  classification_report, confusion_matrix, ConfusionMatrixDisplay,\n",
    "    silhouette_score, calinski_harabasz_score)\n",
    "# improting the ml learning algorithms\n",
    "from sklearn.tree import DecisionTreeClassifier\n",
    "#importing support vector classifier from the svm class\n",
    "from sklearn.svm import SVC\n",
    "# importing Randomforest form the ensemble class\n",
    "from sklearn.ensemble import RandomForestClassifier\n",
    "# importing logistic regression\n",
    "from sklearn.linear_model import LogisticRegression\n",
    "# importing warnings\n",
    "#import warnings\n",
    "#warnings.filterwarnings('ignore')"
   ]
  }
 ],
 "metadata": {
  "kernelspec": {
   "display_name": "Python 3 (ipykernel)",
   "language": "python",
   "name": "python3"
  },
  "language_info": {
   "codemirror_mode": {
    "name": "ipython",
    "version": 3
   },
   "file_extension": ".py",
   "mimetype": "text/x-python",
   "name": "python",
   "nbconvert_exporter": "python",
   "pygments_lexer": "ipython3",
   "version": "3.11.4"
  }
 },
 "nbformat": 4,
 "nbformat_minor": 5
}
